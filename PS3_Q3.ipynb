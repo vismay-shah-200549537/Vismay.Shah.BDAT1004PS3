{
 "cells": [
  {
   "cell_type": "code",
   "execution_count": 1,
   "id": "600a05c6",
   "metadata": {},
   "outputs": [],
   "source": [
    "import pandas as pd\n",
    "import numpy as np"
   ]
  },
  {
   "cell_type": "code",
   "execution_count": 2,
   "id": "b8c7bbc8",
   "metadata": {},
   "outputs": [],
   "source": [
    "a = pd.Series(np.random.randint(1, 5, size=100))\n",
    "b = pd.Series(np.random.randint(1, 4, size=100))\n",
    "c = pd.Series(np.random.randint(10000, 30001, size=100))"
   ]
  },
  {
   "cell_type": "code",
   "execution_count": 3,
   "id": "0e784d17",
   "metadata": {},
   "outputs": [],
   "source": [
    "data = pd.concat([a, b, c], axis=1)\n",
    "data.columns = ['bedrs', 'bathrs', 'price_sqr_meter']"
   ]
  },
  {
   "cell_type": "code",
   "execution_count": 5,
   "id": "a4749333",
   "metadata": {},
   "outputs": [],
   "source": [
    "bigcolumn = pd.concat([a, b, c], axis=0, ignore_index=True)"
   ]
  },
  {
   "cell_type": "code",
   "execution_count": 6,
   "id": "23fca720",
   "metadata": {},
   "outputs": [],
   "source": [
    "is_index_99 = bigcolumn.index.max() == 99\n",
    "data_reindexed = data.reindex(range(300))"
   ]
  },
  {
   "cell_type": "code",
   "execution_count": 7,
   "id": "b489a8e5",
   "metadata": {},
   "outputs": [
    {
     "name": "stdout",
     "output_type": "stream",
     "text": [
      "Dataframe from Series:\n",
      "     bedrs  bathrs  price_sqr_meter\n",
      "0       2       2            27594\n",
      "1       4       2            27995\n",
      "2       4       1            12716\n",
      "3       4       3            29932\n",
      "4       3       1            28566\n",
      "..    ...     ...              ...\n",
      "95      2       3            14402\n",
      "96      2       2            16679\n",
      "97      2       1            15527\n",
      "98      1       3            16436\n",
      "99      4       2            15795\n",
      "\n",
      "[100 rows x 3 columns]\n",
      "\n",
      "Bigcolumn:\n",
      " 0          2\n",
      "1          4\n",
      "2          4\n",
      "3          4\n",
      "4          3\n",
      "       ...  \n",
      "295    14402\n",
      "296    16679\n",
      "297    15527\n",
      "298    16436\n",
      "299    15795\n",
      "Length: 300, dtype: int32\n",
      "\n",
      "Is the bigcolumn index up to 99? False\n",
      "\n",
      "Reindexed DataFrame:\n",
      "      bedrs  bathrs  price_sqr_meter\n",
      "0      2.0     2.0          27594.0\n",
      "1      4.0     2.0          27995.0\n",
      "2      4.0     1.0          12716.0\n",
      "3      4.0     3.0          29932.0\n",
      "4      3.0     1.0          28566.0\n",
      "..     ...     ...              ...\n",
      "295    NaN     NaN              NaN\n",
      "296    NaN     NaN              NaN\n",
      "297    NaN     NaN              NaN\n",
      "298    NaN     NaN              NaN\n",
      "299    NaN     NaN              NaN\n",
      "\n",
      "[300 rows x 3 columns]\n"
     ]
    }
   ],
   "source": [
    "print(\"Dataframe from Series:\\n\", data)\n",
    "print(\"\\nBigcolumn:\\n\", bigcolumn)\n",
    "print(\"\\nIs the bigcolumn index up to 99?\", is_index_99)\n",
    "print(\"\\nReindexed DataFrame:\\n\", data_reindexed)"
   ]
  },
  {
   "cell_type": "code",
   "execution_count": null,
   "id": "84c3f7ec",
   "metadata": {},
   "outputs": [],
   "source": []
  }
 ],
 "metadata": {
  "kernelspec": {
   "display_name": "Python 3 (ipykernel)",
   "language": "python",
   "name": "python3"
  },
  "language_info": {
   "codemirror_mode": {
    "name": "ipython",
    "version": 3
   },
   "file_extension": ".py",
   "mimetype": "text/x-python",
   "name": "python",
   "nbconvert_exporter": "python",
   "pygments_lexer": "ipython3",
   "version": "3.10.9"
  }
 },
 "nbformat": 4,
 "nbformat_minor": 5
}
