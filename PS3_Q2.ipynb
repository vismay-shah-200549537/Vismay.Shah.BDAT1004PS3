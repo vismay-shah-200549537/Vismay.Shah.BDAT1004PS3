{
 "cells": [
  {
   "cell_type": "code",
   "execution_count": 1,
   "id": "8fb4c449",
   "metadata": {},
   "outputs": [],
   "source": [
    "import pandas as pd"
   ]
  },
  {
   "cell_type": "code",
   "execution_count": 2,
   "id": "a6731a1e",
   "metadata": {},
   "outputs": [],
   "source": [
    "url = \"https://raw.githubusercontent.com/guipsamora/pandas_exercises/master/02_Filtering_%26_Sorting/Euro12/Euro_2012_stats_TEAM.csv\"\n",
    "euro12 = pd.read_csv(url)"
   ]
  },
  {
   "cell_type": "code",
   "execution_count": 3,
   "id": "d6ed8e75",
   "metadata": {},
   "outputs": [],
   "source": [
    "goal_column = euro12['Goals']"
   ]
  },
  {
   "cell_type": "code",
   "execution_count": 4,
   "id": "4c8b1cfc",
   "metadata": {},
   "outputs": [
    {
     "name": "stdout",
     "output_type": "stream",
     "text": [
      "Goal column:\n",
      " 0      4\n",
      "1      4\n",
      "2      4\n",
      "3      5\n",
      "4      3\n",
      "5     10\n",
      "6      5\n",
      "7      6\n",
      "8      2\n",
      "9      2\n",
      "10     6\n",
      "11     1\n",
      "12     5\n",
      "13    12\n",
      "14     5\n",
      "15     2\n",
      "Name: Goals, dtype: int64\n"
     ]
    }
   ],
   "source": [
    "print(\"Goal column:\\n\", goal_column)"
   ]
  },
  {
   "cell_type": "code",
   "execution_count": 6,
   "id": "fc34fc50",
   "metadata": {},
   "outputs": [],
   "source": [
    "num_teams = euro12['Team'].count()"
   ]
  },
  {
   "cell_type": "code",
   "execution_count": 7,
   "id": "0b19bbbc",
   "metadata": {},
   "outputs": [
    {
     "name": "stdout",
     "output_type": "stream",
     "text": [
      "\n",
      "Number of teams participated in Euro2012: 16\n"
     ]
    }
   ],
   "source": [
    "print(\"\\nNumber of teams participated in Euro2012:\", num_teams)"
   ]
  },
  {
   "cell_type": "code",
   "execution_count": 8,
   "id": "a9ccede8",
   "metadata": {},
   "outputs": [],
   "source": [
    "num_columns = euro12.shape[1]"
   ]
  },
  {
   "cell_type": "code",
   "execution_count": 9,
   "id": "db6f094c",
   "metadata": {},
   "outputs": [
    {
     "name": "stdout",
     "output_type": "stream",
     "text": [
      "\n",
      "Number of columns in the dataset: 35\n"
     ]
    }
   ],
   "source": [
    "print(\"\\nNumber of columns in the dataset:\", num_columns)"
   ]
  },
  {
   "cell_type": "code",
   "execution_count": 10,
   "id": "323b9d6c",
   "metadata": {},
   "outputs": [],
   "source": [
    "discipline = euro12[['Team', 'Yellow Cards', 'Red Cards']]"
   ]
  },
  {
   "cell_type": "code",
   "execution_count": 11,
   "id": "d578434e",
   "metadata": {},
   "outputs": [],
   "source": [
    "discipline_sorted = discipline.sort_values(by=['Red Cards', 'Yellow Cards'], ascending=[False, False])"
   ]
  },
  {
   "cell_type": "code",
   "execution_count": 12,
   "id": "cf0d27d2",
   "metadata": {},
   "outputs": [
    {
     "name": "stdout",
     "output_type": "stream",
     "text": [
      "\n",
      "Discipline dataframe:\n",
      "                    Team  Yellow Cards  Red Cards\n",
      "0               Croatia             9          0\n",
      "1        Czech Republic             7          0\n",
      "2               Denmark             4          0\n",
      "3               England             5          0\n",
      "4                France             6          0\n",
      "5               Germany             4          0\n",
      "6                Greece             9          1\n",
      "7                 Italy            16          0\n",
      "8           Netherlands             5          0\n",
      "9                Poland             7          1\n",
      "10             Portugal            12          0\n",
      "11  Republic of Ireland             6          1\n",
      "12               Russia             6          0\n",
      "13                Spain            11          0\n",
      "14               Sweden             7          0\n",
      "15              Ukraine             5          0\n",
      "\n",
      "Sorted discipline dataframe:\n",
      "                    Team  Yellow Cards  Red Cards\n",
      "6                Greece             9          1\n",
      "9                Poland             7          1\n",
      "11  Republic of Ireland             6          1\n",
      "7                 Italy            16          0\n",
      "10             Portugal            12          0\n",
      "13                Spain            11          0\n",
      "0               Croatia             9          0\n",
      "1        Czech Republic             7          0\n",
      "14               Sweden             7          0\n",
      "4                France             6          0\n",
      "12               Russia             6          0\n",
      "3               England             5          0\n",
      "8           Netherlands             5          0\n",
      "15              Ukraine             5          0\n",
      "2               Denmark             4          0\n",
      "5               Germany             4          0\n"
     ]
    }
   ],
   "source": [
    "print(\"\\nDiscipline dataframe:\\n\", discipline)\n",
    "print(\"\\nSorted discipline dataframe:\\n\", discipline_sorted)"
   ]
  },
  {
   "cell_type": "code",
   "execution_count": 13,
   "id": "0b139b00",
   "metadata": {},
   "outputs": [
    {
     "name": "stdout",
     "output_type": "stream",
     "text": [
      "\n",
      "Mean Yellow Cards per Team:\n",
      " Team\n",
      "Croatia                 9.0\n",
      "Czech Republic          7.0\n",
      "Denmark                 4.0\n",
      "England                 5.0\n",
      "France                  6.0\n",
      "Germany                 4.0\n",
      "Greece                  9.0\n",
      "Italy                  16.0\n",
      "Netherlands             5.0\n",
      "Poland                  7.0\n",
      "Portugal               12.0\n",
      "Republic of Ireland     6.0\n",
      "Russia                  6.0\n",
      "Spain                  11.0\n",
      "Sweden                  7.0\n",
      "Ukraine                 5.0\n",
      "Name: Yellow Cards, dtype: float64\n"
     ]
    }
   ],
   "source": [
    "mean_yellow_cards_per_team = euro12.groupby('Team')['Yellow Cards'].mean()\n",
    "print(\"\\nMean Yellow Cards per Team:\\n\", mean_yellow_cards_per_team)"
   ]
  },
  {
   "cell_type": "code",
   "execution_count": 14,
   "id": "c03b3f33",
   "metadata": {},
   "outputs": [
    {
     "name": "stdout",
     "output_type": "stream",
     "text": [
      "\n",
      "Teams with more than 6 goals:\n",
      "        Team  Goals  Shots on target  Shots off target Shooting Accuracy  \\\n",
      "5   Germany     10               32                32             47.8%   \n",
      "13    Spain     12               42                33             55.9%   \n",
      "\n",
      "   % Goals-to-shots  Total shots (inc. Blocked)  Hit Woodwork  Penalty goals  \\\n",
      "5             15.6%                          80             2              1   \n",
      "13            16.0%                         100             0              1   \n",
      "\n",
      "    Penalties not scored  ...  Saves made  Saves-to-shots ratio  Fouls Won  \\\n",
      "5                      0  ...          10                 62.6%         63   \n",
      "13                     0  ...          15                 93.8%        102   \n",
      "\n",
      "   Fouls Conceded  Offsides  Yellow Cards  Red Cards  Subs on  Subs off  \\\n",
      "5              49        12             4          0       15        15   \n",
      "13             83        19            11          0       17        17   \n",
      "\n",
      "    Players Used  \n",
      "5             17  \n",
      "13            18  \n",
      "\n",
      "[2 rows x 35 columns]\n"
     ]
    }
   ],
   "source": [
    "teams_with_more_than_6_goals = euro12[euro12['Goals'] > 6]\n",
    "print(\"\\nTeams with more than 6 goals:\\n\", teams_with_more_than_6_goals)"
   ]
  },
  {
   "cell_type": "code",
   "execution_count": 15,
   "id": "8c0ae3e4",
   "metadata": {},
   "outputs": [
    {
     "name": "stdout",
     "output_type": "stream",
     "text": [
      "\n",
      "Teams starting with 'G':\n",
      "       Team  Goals  Shots on target  Shots off target Shooting Accuracy  \\\n",
      "5  Germany     10               32                32             47.8%   \n",
      "6   Greece      5                8                18             30.7%   \n",
      "\n",
      "  % Goals-to-shots  Total shots (inc. Blocked)  Hit Woodwork  Penalty goals  \\\n",
      "5            15.6%                          80             2              1   \n",
      "6            19.2%                          32             1              1   \n",
      "\n",
      "   Penalties not scored  ...  Saves made  Saves-to-shots ratio  Fouls Won  \\\n",
      "5                     0  ...          10                 62.6%         63   \n",
      "6                     1  ...          13                 65.1%         67   \n",
      "\n",
      "  Fouls Conceded  Offsides  Yellow Cards  Red Cards  Subs on  Subs off  \\\n",
      "5             49        12             4          0       15        15   \n",
      "6             48        12             9          1       12        12   \n",
      "\n",
      "   Players Used  \n",
      "5            17  \n",
      "6            20  \n",
      "\n",
      "[2 rows x 35 columns]\n"
     ]
    }
   ],
   "source": [
    "teams_starting_with_G = euro12[euro12['Team'].str.startswith('G')]\n",
    "print(\"\\nTeams starting with 'G':\\n\", teams_starting_with_G)"
   ]
  },
  {
   "cell_type": "code",
   "execution_count": 16,
   "id": "83daec26",
   "metadata": {},
   "outputs": [
    {
     "name": "stdout",
     "output_type": "stream",
     "text": [
      "\n",
      "First 7 columns:\n",
      "                    Team  Goals  Shots on target  Shots off target  \\\n",
      "0               Croatia      4               13                12   \n",
      "1        Czech Republic      4               13                18   \n",
      "2               Denmark      4               10                10   \n",
      "3               England      5               11                18   \n",
      "4                France      3               22                24   \n",
      "5               Germany     10               32                32   \n",
      "6                Greece      5                8                18   \n",
      "7                 Italy      6               34                45   \n",
      "8           Netherlands      2               12                36   \n",
      "9                Poland      2               15                23   \n",
      "10             Portugal      6               22                42   \n",
      "11  Republic of Ireland      1                7                12   \n",
      "12               Russia      5                9                31   \n",
      "13                Spain     12               42                33   \n",
      "14               Sweden      5               17                19   \n",
      "15              Ukraine      2                7                26   \n",
      "\n",
      "   Shooting Accuracy % Goals-to-shots  Total shots (inc. Blocked)  \n",
      "0              51.9%            16.0%                          32  \n",
      "1              41.9%            12.9%                          39  \n",
      "2              50.0%            20.0%                          27  \n",
      "3              50.0%            17.2%                          40  \n",
      "4              37.9%             6.5%                          65  \n",
      "5              47.8%            15.6%                          80  \n",
      "6              30.7%            19.2%                          32  \n",
      "7              43.0%             7.5%                         110  \n",
      "8              25.0%             4.1%                          60  \n",
      "9              39.4%             5.2%                          48  \n",
      "10             34.3%             9.3%                          82  \n",
      "11             36.8%             5.2%                          28  \n",
      "12             22.5%            12.5%                          59  \n",
      "13             55.9%            16.0%                         100  \n",
      "14             47.2%            13.8%                          39  \n",
      "15             21.2%             6.0%                          38  \n"
     ]
    }
   ],
   "source": [
    "first_7_columns = euro12.iloc[:, :7]\n",
    "print(\"\\nFirst 7 columns:\\n\", first_7_columns)"
   ]
  },
  {
   "cell_type": "code",
   "execution_count": 17,
   "id": "50f4be9b",
   "metadata": {},
   "outputs": [
    {
     "name": "stdout",
     "output_type": "stream",
     "text": [
      "\n",
      "Columns except the last 3:\n",
      "                    Team  Goals  Shots on target  Shots off target  \\\n",
      "0               Croatia      4               13                12   \n",
      "1        Czech Republic      4               13                18   \n",
      "2               Denmark      4               10                10   \n",
      "3               England      5               11                18   \n",
      "4                France      3               22                24   \n",
      "5               Germany     10               32                32   \n",
      "6                Greece      5                8                18   \n",
      "7                 Italy      6               34                45   \n",
      "8           Netherlands      2               12                36   \n",
      "9                Poland      2               15                23   \n",
      "10             Portugal      6               22                42   \n",
      "11  Republic of Ireland      1                7                12   \n",
      "12               Russia      5                9                31   \n",
      "13                Spain     12               42                33   \n",
      "14               Sweden      5               17                19   \n",
      "15              Ukraine      2                7                26   \n",
      "\n",
      "   Shooting Accuracy % Goals-to-shots  Total shots (inc. Blocked)  \\\n",
      "0              51.9%            16.0%                          32   \n",
      "1              41.9%            12.9%                          39   \n",
      "2              50.0%            20.0%                          27   \n",
      "3              50.0%            17.2%                          40   \n",
      "4              37.9%             6.5%                          65   \n",
      "5              47.8%            15.6%                          80   \n",
      "6              30.7%            19.2%                          32   \n",
      "7              43.0%             7.5%                         110   \n",
      "8              25.0%             4.1%                          60   \n",
      "9              39.4%             5.2%                          48   \n",
      "10             34.3%             9.3%                          82   \n",
      "11             36.8%             5.2%                          28   \n",
      "12             22.5%            12.5%                          59   \n",
      "13             55.9%            16.0%                         100   \n",
      "14             47.2%            13.8%                          39   \n",
      "15             21.2%             6.0%                          38   \n",
      "\n",
      "    Hit Woodwork  Penalty goals  Penalties not scored  ...  Clean Sheets  \\\n",
      "0              0              0                     0  ...             0   \n",
      "1              0              0                     0  ...             1   \n",
      "2              1              0                     0  ...             1   \n",
      "3              0              0                     0  ...             2   \n",
      "4              1              0                     0  ...             1   \n",
      "5              2              1                     0  ...             1   \n",
      "6              1              1                     1  ...             1   \n",
      "7              2              0                     0  ...             2   \n",
      "8              2              0                     0  ...             0   \n",
      "9              0              0                     0  ...             0   \n",
      "10             6              0                     0  ...             2   \n",
      "11             0              0                     0  ...             0   \n",
      "12             2              0                     0  ...             0   \n",
      "13             0              1                     0  ...             5   \n",
      "14             3              0                     0  ...             1   \n",
      "15             0              0                     0  ...             0   \n",
      "\n",
      "    Blocks  Goals conceded Saves made  Saves-to-shots ratio  Fouls Won  \\\n",
      "0       10               3         13                 81.3%         41   \n",
      "1       10               6          9                 60.1%         53   \n",
      "2       10               5         10                 66.7%         25   \n",
      "3       29               3         22                 88.1%         43   \n",
      "4        7               5          6                 54.6%         36   \n",
      "5       11               6         10                 62.6%         63   \n",
      "6       23               7         13                 65.1%         67   \n",
      "7       18               7         20                 74.1%        101   \n",
      "8        9               5         12                 70.6%         35   \n",
      "9        8               3          6                 66.7%         48   \n",
      "10      11               4         10                 71.5%         73   \n",
      "11      23               9         17                 65.4%         43   \n",
      "12       8               3         10                 77.0%         34   \n",
      "13       8               1         15                 93.8%        102   \n",
      "14      12               5          8                 61.6%         35   \n",
      "15       4               4         13                 76.5%         48   \n",
      "\n",
      "    Fouls Conceded  Offsides  Yellow Cards  Red Cards  \n",
      "0               62         2             9          0  \n",
      "1               73         8             7          0  \n",
      "2               38         8             4          0  \n",
      "3               45         6             5          0  \n",
      "4               51         5             6          0  \n",
      "5               49        12             4          0  \n",
      "6               48        12             9          1  \n",
      "7               89        16            16          0  \n",
      "8               30         3             5          0  \n",
      "9               56         3             7          1  \n",
      "10              90        10            12          0  \n",
      "11              51        11             6          1  \n",
      "12              43         4             6          0  \n",
      "13              83        19            11          0  \n",
      "14              51         7             7          0  \n",
      "15              31         4             5          0  \n",
      "\n",
      "[16 rows x 32 columns]\n"
     ]
    }
   ],
   "source": [
    "columns_except_last_3 = euro12.iloc[:, :-3]\n",
    "print(\"\\nColumns except the last 3:\\n\", columns_except_last_3)"
   ]
  },
  {
   "cell_type": "code",
   "execution_count": 18,
   "id": "64bdf274",
   "metadata": {},
   "outputs": [
    {
     "name": "stdout",
     "output_type": "stream",
     "text": [
      "\n",
      "Shooting Accuracy for selected teams:\n",
      "        Team Shooting Accuracy\n",
      "3   England             50.0%\n",
      "7     Italy             43.0%\n",
      "12   Russia             22.5%\n"
     ]
    }
   ],
   "source": [
    "shooting_accuracy_selected_teams = euro12[euro12['Team'].isin(['England', 'Italy', 'Russia'])][['Team', 'Shooting Accuracy']]\n",
    "print(\"\\nShooting Accuracy for selected teams:\\n\", shooting_accuracy_selected_teams)"
   ]
  },
  {
   "cell_type": "code",
   "execution_count": null,
   "id": "e04f9736",
   "metadata": {},
   "outputs": [],
   "source": []
  }
 ],
 "metadata": {
  "kernelspec": {
   "display_name": "Python 3 (ipykernel)",
   "language": "python",
   "name": "python3"
  },
  "language_info": {
   "codemirror_mode": {
    "name": "ipython",
    "version": 3
   },
   "file_extension": ".py",
   "mimetype": "text/x-python",
   "name": "python",
   "nbconvert_exporter": "python",
   "pygments_lexer": "ipython3",
   "version": "3.10.9"
  }
 },
 "nbformat": 4,
 "nbformat_minor": 5
}
